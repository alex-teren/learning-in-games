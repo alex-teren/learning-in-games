{
 "cells": [
  {
   "cell_type": "markdown",
   "id": "cc0e03c5",
   "metadata": {},
   "source": [
    "# Навчання агентів для Дилеми в'язня використовуючи Еволюційні Алгоритми\n",
    "\n",
    "\n",
    "Цей ноутбук демонструє використання еволюційних алгоритмів (CMA-ES) для навчання агента \n",
    "стратегії в Ітерованій Дилемі В'язня (Iterated Prisoner's Dilemma, IPD).\n",
    "\n",
    "## Що ми будемо робити:\n",
    "1. Налаштуємо середовище IPD\n",
    "2. Реалізуємо еволюційний алгоритм для навчання стратегії\n",
    "3. Оцінимо продуктивність агента проти різних класичних стратегій\n",
    "4. Проаналізуємо навчену стратегію та її ефективність\n",
    "\n",
    "## Очікувані результати:\n",
    "- Порівняння ефективності еволюційної стратегії з іншими підходами\n",
    "- Розуміння того, як еволюційні алгоритми можуть знаходити оптимальні стратегії\n",
    "- Візуалізація процесу навчання та результатів\n"
   ]
  },
  {
   "cell_type": "code",
   "execution_count": null,
   "id": "2d7ba114",
   "metadata": {},
   "outputs": [],
   "source": [
    "import os\n",
    "import sys\n",
    "import numpy as np\n",
    "import matplotlib.pyplot as plt\n",
    "import pandas as pd\n",
    "import seaborn as sns\n",
    "from IPython.display import display\n",
    "from cmaes import CMA\n",
    "\n",
    "# Додаємо шлях до кореневої директорії проекту для можливості імпорту\n",
    "sys.path.append(os.path.abspath('..'))\n",
    "\n",
    "# Імпортуємо наше середовище IPD та стратегії\n",
    "from env import IPDEnv, TitForTat, AlwaysCooperate, AlwaysDefect, RandomStrategy, PavlovStrategy\n",
    "\n",
    "# Налаштування стилю візуалізації\n",
    "sns.set_style('whitegrid')\n",
    "plt.rcParams['figure.figsize'] = (12, 6)\n",
    "plt.rcParams['font.size'] = 12"
   ]
  }
 ],
 "metadata": {},
 "nbformat": 4,
 "nbformat_minor": 5
}
