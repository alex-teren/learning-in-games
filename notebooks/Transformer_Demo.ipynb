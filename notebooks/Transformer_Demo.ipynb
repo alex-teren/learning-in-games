{
 "cells": [
  {
   "cell_type": "markdown",
   "id": "e1c0d8ad",
   "metadata": {},
   "source": [
    "# Навчання агентів для Дилеми в'язня використовуючи Трансформери\n",
    "\n",
    "\n",
    "Цей ноутбук демонструє використання архітектури трансформерів (Decision Transformer) для навчання агента \n",
    "стратегії в Ітерованій Дилемі В'язня (Iterated Prisoner's Dilemma, IPD).\n",
    "\n",
    "## Що ми будемо робити:\n",
    "1. Налаштуємо середовище IPD\n",
    "2. Зберемо дані з успішних партій для навчання трансформера\n",
    "3. Реалізуємо модель Decision Transformer\n",
    "4. Оцінимо продуктивність агента проти різних класичних стратегій\n",
    "5. Проаналізуємо навчену стратегію та її ефективність\n",
    "\n",
    "## Очікувані результати:\n",
    "- Порівняння ефективності трансформер-агента з іншими підходами\n",
    "- Розуміння того, як трансформери можуть навчатися з траєкторій\n",
    "- Візуалізація процесу навчання та результатів\n"
   ]
  },
  {
   "cell_type": "code",
   "execution_count": null,
   "id": "ae8b87fa",
   "metadata": {},
   "outputs": [],
   "source": [
    "import os\n",
    "import sys\n",
    "import numpy as np\n",
    "import matplotlib.pyplot as plt\n",
    "import pandas as pd\n",
    "import torch\n",
    "import torch.nn as nn\n",
    "import torch.optim as optim\n",
    "import seaborn as sns\n",
    "from IPython.display import display\n",
    "from torch.utils.data import Dataset, DataLoader\n",
    "\n",
    "# Додаємо шлях до кореневої директорії проекту для можливості імпорту\n",
    "sys.path.append(os.path.abspath('..'))\n",
    "\n",
    "# Імпортуємо наше середовище IPD та стратегії\n",
    "from env import IPDEnv, TitForTat, AlwaysCooperate, AlwaysDefect, RandomStrategy, PavlovStrategy\n",
    "\n",
    "# Налаштування стилю візуалізації\n",
    "sns.set_style('whitegrid')\n",
    "plt.rcParams['figure.figsize'] = (12, 6)\n",
    "plt.rcParams['font.size'] = 12\n",
    "\n",
    "# Перевіряємо доступність GPU\n",
    "device = torch.device('cuda' if torch.cuda.is_available() else 'cpu')\n",
    "print(f'Використовуємо пристрій: {device}')"
   ]
  }
 ],
 "metadata": {},
 "nbformat": 4,
 "nbformat_minor": 5
}
